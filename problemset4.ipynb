{
 "cells": [
  {
   "cell_type": "markdown",
   "metadata": {},
   "source": [
    "utils.py"
   ]
  },
  {
   "cell_type": "code",
   "execution_count": 1,
   "metadata": {},
   "outputs": [],
   "source": [
    "import pandas as pd\n",
    "import numpy as np\n",
    "import scipy.stats\n",
    "import statsmodels.api as sm\n",
    "from statsmodels.formula.api import ols\n",
    "import math"
   ]
  },
  {
   "cell_type": "code",
   "execution_count": 2,
   "metadata": {},
   "outputs": [],
   "source": [
    "# Problem Set 4: Problem 4\n",
    "def loadAndCleanData(file):\n",
    "    dataset = pd.read_csv(file,encoding='utf-8')\n",
    "    dataset.fillna(value=0,inplace=True)\n",
    "    # this next line was taken from https://stackoverflow.com/questions/22649693/drop-rows-with-all-zeros-in-pandas-data-frame\n",
    "    dataset = dataset.loc[(dataset!=0).any(axis=1)] # this lets me drop rows where all values are 0\n",
    "    return dataset"
   ]
  },
  {
   "cell_type": "code",
   "execution_count": 3,
   "metadata": {},
   "outputs": [],
   "source": [
    "def computeProbability(feature, bin, data):\n",
    "    count = 0.0\n",
    "    for i,datapoint in data.iterrows():\n",
    "        if datapoint[feature] >= bin[0] and datapoint[feature] < bin[1]:\n",
    "            count += 1\n",
    "    return count / len(data)"
   ]
  },
  {
   "cell_type": "code",
   "execution_count": 4,
   "metadata": {},
   "outputs": [],
   "source": [
    "def computeConfidenceInterval(data):\n",
    "    npArray = 1.0 * np.array(data)\n",
    "    stdErr = scipy.stats.sem(npArray)\n",
    "    n = len(data)\n",
    "    return stdErr * scipy.stats.t.ppf((1+.95)/2.0,n-1)"
   ]
  },
  {
   "cell_type": "code",
   "execution_count": 5,
   "metadata": {},
   "outputs": [],
   "source": [
    "def getEffectSize(d1,d2):\n",
    "    m1 = d1.mean()\n",
    "    m2 = d2.mean()\n",
    "    s1 = d1.std()\n",
    "    s2 = d1.std()\n",
    "    return (m1 - m2) / math.sqrt((math.pow(s1,3) + math.pow(s2, 3)) / 2.0)"
   ]
  },
  {
   "cell_type": "code",
   "execution_count": 6,
   "metadata": {},
   "outputs": [],
   "source": [
    "# Problem Set 4: Problem 20.1\n",
    "def runTTest(d1,d2):\n",
    "    return scipy.stats.ttest_ind(d1,d2)"
   ]
  },
  {
   "cell_type": "code",
   "execution_count": 7,
   "metadata": {},
   "outputs": [],
   "source": [
    "def runANOVA(dataframe,vars):\n",
    "    model = ols(vars, data=dataframe).fit()\n",
    "    aov_table = sm.stats.anova_lm(model, typ=2)\n",
    "    return aov_table"
   ]
  },
  {
   "cell_type": "code",
   "execution_count": 8,
   "metadata": {},
   "outputs": [],
   "source": [
    "# Problem Set 4: Problem 19.1\n",
    "def getConfidenceIntervals(datacolumn):\n",
    "    npArray = 1.0 * np.array(datacolumn)\n",
    "    stdErr = scipy.stats.sem(npArray)\n",
    "    n = len(datacolumn)\n",
    "    return stdErr * scipy.stats.t.ppf((1+.95)/2.0,n-1)"
   ]
  },
  {
   "cell_type": "markdown",
   "metadata": {},
   "source": [
    "poll.py"
   ]
  },
  {
   "cell_type": "code",
   "execution_count": 9,
   "metadata": {},
   "outputs": [],
   "source": [
    "class Poll:\n",
    "    def __init__(self, name, df):\n",
    "        self.outlet = name\n",
    "        self.data = df.loc[df[\"Poll\"]==name]\n",
    "\n",
    "    def getMostRecentPoll(self):\n",
    "        return self.data.iloc[0]\n",
    "\n",
    "    def countPoll(self):\n",
    "        return len(self.data)\n",
    "\n",
    "    def changeInPoll(self, candidate):\n",
    "        candidateData = self.data[candidate]\n",
    "        return candidateData.iloc[0] - candidateData.iloc[len(candidateData)-1]\n",
    "\n",
    "    def avgInPoll(self, candidate):\n",
    "        return self.data[candidate].mean()\n",
    "\n",
    "    def medianInPoll(self, candidate):\n",
    "        return self.data[candidate].median()\n",
    "\n",
    "    def correlatedPoll(self, candidate1, candidate2):\n",
    "        if (self.countPoll() == 1):\n",
    "            print(\"not enough data\")\n",
    "            return 0\n",
    "        else:\n",
    "            return self.data[candidate1].corr(self.data[candidate2])\n",
    "\n",
    "    def pollUncertainty(self, candidate):\n",
    "        return self.data[candidate].std()\n",
    "\n",
    "    def pollStdDev(self,candidate):\n",
    "        upperQuantile = self.data[candidate].quantile(.75)\n",
    "        lowerQuantile = self.data[candidate].quantile(.25)\n",
    "        return upperQuantile - lowerQuantile\n",
    "\n",
    "    def pollErrorMargin(self,candidate):\n",
    "        n = self.countPoll()\n",
    "        sigma = self.data[candidate].std()\n",
    "        z = 1.96\n",
    "        return z * sigma / math.sqrt(n)\n",
    "\n",
    "    def pollConfidence(self,candidate):\n",
    "        npArray = 1.0 * np.array(self.data[candidate])\n",
    "        stdErr = scipy.stats.sem(npArray)\n",
    "        n = self.countPoll()\n",
    "        return stdErr * scipy.stats.t.ppf((1+.95)/2.0,n-1)"
   ]
  },
  {
   "cell_type": "markdown",
   "metadata": {},
   "source": [
    "pollingData.py"
   ]
  },
  {
   "cell_type": "code",
   "execution_count": 10,
   "metadata": {},
   "outputs": [],
   "source": [
    "import matplotlib.pyplot as plt"
   ]
  },
  {
   "cell_type": "code",
   "execution_count": 11,
   "metadata": {},
   "outputs": [],
   "source": [
    "# Problem Set 4: Problem 5\n",
    "def normalizeData(dataset):\n",
    "    newcolumn = []\n",
    "    for i, row in dataset.iterrows():\n",
    "        row.drop(labels=['Poll','Date','Sample','Spread'],inplace=True)\n",
    "        value = 100 - row.sum()\n",
    "        newcolumn.append(value)\n",
    "    dataset['Undecided'] = newcolumn"
   ]
  },
  {
   "cell_type": "code",
   "execution_count": 12,
   "metadata": {},
   "outputs": [],
   "source": [
    "# Problem Set 4: Problem 7\n",
    "def plotCandidate(candidate,dataset):\n",
    "    plt.scatter(dataset[\"Poll\"],dataset[candidate])\n",
    "    plt.title(candidate)\n",
    "    plt.show()"
   ]
  },
  {
   "cell_type": "code",
   "execution_count": 13,
   "metadata": {},
   "outputs": [],
   "source": [
    "# Problem Set 4: Problem 8\n",
    "def statsPerCandidate(candidate,dataset):\n",
    "    return dataset[candidate].mean()"
   ]
  },
  {
   "cell_type": "code",
   "execution_count": 14,
   "metadata": {},
   "outputs": [],
   "source": [
    "# Problem Set 5: Problem 10\n",
    "def cleanSample(dataset):\n",
    "    sampleType = []\n",
    "    sampleSize = []\n",
    "    for i, row in dataset.iterrows():\n",
    "        if 'RV' in row[\"Sample\"]:\n",
    "            sampleType.append('RV')\n",
    "            sampleSize.append(row[\"Sample\"].replace(' RV',''))\n",
    "        elif 'LV' in row[\"Sample\"]:\n",
    "            sampleType.append('RV')\n",
    "            sampleSize.append(row[\"Sample\"].replace(' LV',''))\n",
    "    for size in range(len(sampleSize)):\n",
    "        if 'RV' not in sampleSize[size] and 'LV' not in sampleSize[size]:\n",
    "            sampleSize[size] = int(sampleSize[size])\n",
    "        else:\n",
    "            sampleSize[size] = 0\n",
    "    dataset[\"Sample Type\"] = sampleType\n",
    "    dataset[\"Sample Size\"] = sampleSize"
   ]
  },
  {
   "cell_type": "code",
   "execution_count": 15,
   "metadata": {},
   "outputs": [],
   "source": [
    "#df[df['Poll'] == \"NBC News/Wall St. JrnlNBC/WSJ\"]"
   ]
  },
  {
   "cell_type": "code",
   "execution_count": 16,
   "metadata": {},
   "outputs": [],
   "source": [
    "#df[df['Poll'] == \"NBC News/Wall St. JrnlNBC/WSJ\"][\"Sample Size\"]"
   ]
  },
  {
   "cell_type": "code",
   "execution_count": 17,
   "metadata": {},
   "outputs": [],
   "source": [
    "#sum(df[df['Poll'] == \"NBC News/Wall St. JrnlNBC/WSJ\"][\"Sample Size\"])"
   ]
  },
  {
   "cell_type": "code",
   "execution_count": 18,
   "metadata": {},
   "outputs": [],
   "source": [
    "# Problem Set 4: Problem 12.1\n",
    "def computePollWeight(dataset,poll):\n",
    "    return sum(dataset[dataset['Poll'] == poll][\"Sample Size\"]) / sum(dataset[\"Sample Size\"])"
   ]
  },
  {
   "cell_type": "code",
   "execution_count": 19,
   "metadata": {},
   "outputs": [],
   "source": [
    "#computePollWeight(df,\"NBC News/Wall St. JrnlNBC/WSJ\")"
   ]
  },
  {
   "cell_type": "code",
   "execution_count": 20,
   "metadata": {},
   "outputs": [],
   "source": [
    "# Problem Set 4: Problem 17\n",
    "def superTuesday(dataset,candidates):\n",
    "    BidenST = []\n",
    "    SandersST = []\n",
    "    \n",
    "    for i, row in dataset.iterrows():\n",
    "        \n",
    "        BidenCount = row[\"Biden\"]\n",
    "        SandersCount = row[\"Sanders\"]\n",
    "        \n",
    "        for candidate in candidates:\n",
    "            \n",
    "            if candidate != \"Biden\" and candidate != \"Sanders\":\n",
    "                BidenCorr = computeCorrelation(\"Biden\",candidate,dataset)\n",
    "                SandersCorr = computeCorrelation(\"Sanders\",candidate,dataset)\n",
    "                \n",
    "                if abs(BidenCorr) > abs(SandersCorr):\n",
    "                    BidenCount += row[candidate]\n",
    "                else:\n",
    "                    SandersCount += row[candidate]\n",
    "        \n",
    "        BidenST.append(BidenCount)\n",
    "        SandersST.append(SandersCount)\n",
    "    \n",
    "    dataset[\"BidenST\"] = BidenST\n",
    "    dataset[\"SandersST\"] = SandersST"
   ]
  },
  {
   "cell_type": "markdown",
   "metadata": {},
   "source": [
    "main.py"
   ]
  },
  {
   "cell_type": "code",
   "execution_count": 21,
   "metadata": {
    "scrolled": true
   },
   "outputs": [
    {
     "data": {
      "text/plain": [
       "'\\n    print(poll.outlet)\\n    print(poll.getMostRecentPoll())\\n    print(poll.countPoll)\\n    print(poll.changeInPoll(\"Sanders\"))\\n    print(poll.avgInPoll(\"Sanders\"))\\n'"
      ]
     },
     "execution_count": 21,
     "metadata": {},
     "output_type": "execute_result"
    }
   ],
   "source": [
    "df = loadAndCleanData(\"2020_democratic_presidential_nomination-6730.csv\")\n",
    "\n",
    "pollNames = pd.unique(df[\"Poll\"])\n",
    "\n",
    "polls = []\n",
    "\n",
    "for name in pollNames:\n",
    "    poll = Poll(name, df)\n",
    "    polls.append(poll)\n",
    "\n",
    "'''\n",
    "    print(poll.outlet)\n",
    "    print(poll.getMostRecentPoll())\n",
    "    print(poll.countPoll)\n",
    "    print(poll.changeInPoll(\"Sanders\"))\n",
    "    print(poll.avgInPoll(\"Sanders\"))\n",
    "'''"
   ]
  },
  {
   "cell_type": "code",
   "execution_count": 22,
   "metadata": {},
   "outputs": [
    {
     "data": {
      "text/html": [
       "<div>\n",
       "<style scoped>\n",
       "    .dataframe tbody tr th:only-of-type {\n",
       "        vertical-align: middle;\n",
       "    }\n",
       "\n",
       "    .dataframe tbody tr th {\n",
       "        vertical-align: top;\n",
       "    }\n",
       "\n",
       "    .dataframe thead th {\n",
       "        text-align: right;\n",
       "    }\n",
       "</style>\n",
       "<table border=\"1\" class=\"dataframe\">\n",
       "  <thead>\n",
       "    <tr style=\"text-align: right;\">\n",
       "      <th></th>\n",
       "      <th>Poll</th>\n",
       "      <th>Date</th>\n",
       "      <th>Sample</th>\n",
       "      <th>Biden</th>\n",
       "      <th>Sanders</th>\n",
       "      <th>Spread</th>\n",
       "      <th>Undecided</th>\n",
       "    </tr>\n",
       "  </thead>\n",
       "  <tbody>\n",
       "    <tr>\n",
       "      <th>1</th>\n",
       "      <td>ABC News/Wash PostABC/WP</td>\n",
       "      <td>3/22 - 3/25</td>\n",
       "      <td>388 RV</td>\n",
       "      <td>55.0</td>\n",
       "      <td>39.0</td>\n",
       "      <td>Biden +16</td>\n",
       "      <td>6.0</td>\n",
       "    </tr>\n",
       "    <tr>\n",
       "      <th>3</th>\n",
       "      <td>Economist/YouGovYouGov</td>\n",
       "      <td>3/22 - 3/24</td>\n",
       "      <td>547 LV</td>\n",
       "      <td>57.0</td>\n",
       "      <td>39.0</td>\n",
       "      <td>Biden +18</td>\n",
       "      <td>4.0</td>\n",
       "    </tr>\n",
       "    <tr>\n",
       "      <th>5</th>\n",
       "      <td>Reuters/IpsosReuters</td>\n",
       "      <td>3/18 - 3/24</td>\n",
       "      <td>1981 RV</td>\n",
       "      <td>53.0</td>\n",
       "      <td>34.0</td>\n",
       "      <td>Biden +19</td>\n",
       "      <td>13.0</td>\n",
       "    </tr>\n",
       "    <tr>\n",
       "      <th>7</th>\n",
       "      <td>Morning ConsultM. Consult</td>\n",
       "      <td>3/16 - 3/22</td>\n",
       "      <td>16180 LV</td>\n",
       "      <td>60.0</td>\n",
       "      <td>36.0</td>\n",
       "      <td>Biden +24</td>\n",
       "      <td>4.0</td>\n",
       "    </tr>\n",
       "    <tr>\n",
       "      <th>9</th>\n",
       "      <td>EmersonEmerson</td>\n",
       "      <td>3/18 - 3/19</td>\n",
       "      <td>519 RV</td>\n",
       "      <td>54.0</td>\n",
       "      <td>42.0</td>\n",
       "      <td>Biden +12</td>\n",
       "      <td>4.0</td>\n",
       "    </tr>\n",
       "  </tbody>\n",
       "</table>\n",
       "</div>"
      ],
      "text/plain": [
       "                        Poll         Date    Sample  Biden  Sanders  \\\n",
       "1   ABC News/Wash PostABC/WP  3/22 - 3/25    388 RV   55.0     39.0   \n",
       "3     Economist/YouGovYouGov  3/22 - 3/24    547 LV   57.0     39.0   \n",
       "5       Reuters/IpsosReuters  3/18 - 3/24   1981 RV   53.0     34.0   \n",
       "7  Morning ConsultM. Consult  3/16 - 3/22  16180 LV   60.0     36.0   \n",
       "9             EmersonEmerson  3/18 - 3/19    519 RV   54.0     42.0   \n",
       "\n",
       "      Spread  Undecided  \n",
       "1  Biden +16        6.0  \n",
       "3  Biden +18        4.0  \n",
       "5  Biden +19       13.0  \n",
       "7  Biden +24        4.0  \n",
       "9  Biden +12        4.0  "
      ]
     },
     "execution_count": 22,
     "metadata": {},
     "output_type": "execute_result"
    }
   ],
   "source": [
    "# Problem Set 4: Problem 6\n",
    "normalizeData(df)\n",
    "df.head() # print(df)"
   ]
  },
  {
   "cell_type": "code",
   "execution_count": 23,
   "metadata": {
    "scrolled": true
   },
   "outputs": [
    {
     "data": {
      "image/png": "[encoded data removed]",
      "text/plain": [
       "<Figure size 432x288 with 1 Axes>"
      ]
     },
     "metadata": {
      "needs_background": "light"
     },
     "output_type": "display_data"
    },
    {
     "data": {
      "image/png": "[encoded data removed]",
      "text/plain": [
       "<Figure size 432x288 with 1 Axes>"
      ]
     },
     "metadata": {
      "needs_background": "light"
     },
     "output_type": "display_data"
    }
   ],
   "source": [
    "# Problem Set 4: Problem 7\n",
    "for candidate in df.columns:\n",
    "    if candidate not in ['Poll','Date','Sample','Spread','Undecided']:\n",
    "        plotCandidate(candidate,df)"
   ]
  },
  {
   "cell_type": "code",
   "execution_count": 24,
   "metadata": {},
   "outputs": [
    {
     "name": "stdout",
     "output_type": "stream",
     "text": [
      "Biden 54.73684210526316\n",
      "Sanders 35.68421052631579\n"
     ]
    }
   ],
   "source": [
    "# Problem Set 4: Problem 9\n",
    "myCans = []\n",
    "\n",
    "for candidate in df.columns:\n",
    "    if candidate not in ['Poll','Date','Sample','Spread','Undecided']:\n",
    "        myCans.append(candidate)\n",
    "        print(candidate,statsPerCandidate(candidate,df))"
   ]
  },
  {
   "cell_type": "code",
   "execution_count": 25,
   "metadata": {},
   "outputs": [],
   "source": [
    "# Problem Set 4: Problem 11\n",
    "cleanSample(df)"
   ]
  },
  {
   "cell_type": "code",
   "execution_count": 26,
   "metadata": {
    "scrolled": true
   },
   "outputs": [
    {
     "data": {
      "text/html": [
       "<div>\n",
       "<style scoped>\n",
       "    .dataframe tbody tr th:only-of-type {\n",
       "        vertical-align: middle;\n",
       "    }\n",
       "\n",
       "    .dataframe tbody tr th {\n",
       "        vertical-align: top;\n",
       "    }\n",
       "\n",
       "    .dataframe thead th {\n",
       "        text-align: right;\n",
       "    }\n",
       "</style>\n",
       "<table border=\"1\" class=\"dataframe\">\n",
       "  <thead>\n",
       "    <tr style=\"text-align: right;\">\n",
       "      <th></th>\n",
       "      <th>Poll</th>\n",
       "      <th>Date</th>\n",
       "      <th>Sample</th>\n",
       "      <th>Biden</th>\n",
       "      <th>Sanders</th>\n",
       "      <th>Spread</th>\n",
       "      <th>Undecided</th>\n",
       "      <th>Sample Type</th>\n",
       "      <th>Sample Size</th>\n",
       "    </tr>\n",
       "  </thead>\n",
       "  <tbody>\n",
       "    <tr>\n",
       "      <th>1</th>\n",
       "      <td>ABC News/Wash PostABC/WP</td>\n",
       "      <td>3/22 - 3/25</td>\n",
       "      <td>388 RV</td>\n",
       "      <td>55.0</td>\n",
       "      <td>39.0</td>\n",
       "      <td>Biden +16</td>\n",
       "      <td>6.0</td>\n",
       "      <td>RV</td>\n",
       "      <td>388</td>\n",
       "    </tr>\n",
       "    <tr>\n",
       "      <th>3</th>\n",
       "      <td>Economist/YouGovYouGov</td>\n",
       "      <td>3/22 - 3/24</td>\n",
       "      <td>547 LV</td>\n",
       "      <td>57.0</td>\n",
       "      <td>39.0</td>\n",
       "      <td>Biden +18</td>\n",
       "      <td>4.0</td>\n",
       "      <td>RV</td>\n",
       "      <td>547</td>\n",
       "    </tr>\n",
       "    <tr>\n",
       "      <th>5</th>\n",
       "      <td>Reuters/IpsosReuters</td>\n",
       "      <td>3/18 - 3/24</td>\n",
       "      <td>1981 RV</td>\n",
       "      <td>53.0</td>\n",
       "      <td>34.0</td>\n",
       "      <td>Biden +19</td>\n",
       "      <td>13.0</td>\n",
       "      <td>RV</td>\n",
       "      <td>1981</td>\n",
       "    </tr>\n",
       "    <tr>\n",
       "      <th>7</th>\n",
       "      <td>Morning ConsultM. Consult</td>\n",
       "      <td>3/16 - 3/22</td>\n",
       "      <td>16180 LV</td>\n",
       "      <td>60.0</td>\n",
       "      <td>36.0</td>\n",
       "      <td>Biden +24</td>\n",
       "      <td>4.0</td>\n",
       "      <td>RV</td>\n",
       "      <td>16180</td>\n",
       "    </tr>\n",
       "    <tr>\n",
       "      <th>9</th>\n",
       "      <td>EmersonEmerson</td>\n",
       "      <td>3/18 - 3/19</td>\n",
       "      <td>519 RV</td>\n",
       "      <td>54.0</td>\n",
       "      <td>42.0</td>\n",
       "      <td>Biden +12</td>\n",
       "      <td>4.0</td>\n",
       "      <td>RV</td>\n",
       "      <td>519</td>\n",
       "    </tr>\n",
       "  </tbody>\n",
       "</table>\n",
       "</div>"
      ],
      "text/plain": [
       "                        Poll         Date    Sample  Biden  Sanders  \\\n",
       "1   ABC News/Wash PostABC/WP  3/22 - 3/25    388 RV   55.0     39.0   \n",
       "3     Economist/YouGovYouGov  3/22 - 3/24    547 LV   57.0     39.0   \n",
       "5       Reuters/IpsosReuters  3/18 - 3/24   1981 RV   53.0     34.0   \n",
       "7  Morning ConsultM. Consult  3/16 - 3/22  16180 LV   60.0     36.0   \n",
       "9             EmersonEmerson  3/18 - 3/19    519 RV   54.0     42.0   \n",
       "\n",
       "      Spread  Undecided Sample Type  Sample Size  \n",
       "1  Biden +16        6.0          RV          388  \n",
       "3  Biden +18        4.0          RV          547  \n",
       "5  Biden +19       13.0          RV         1981  \n",
       "7  Biden +24        4.0          RV        16180  \n",
       "9  Biden +12        4.0          RV          519  "
      ]
     },
     "execution_count": 26,
     "metadata": {},
     "output_type": "execute_result"
    }
   ],
   "source": [
    "df.head()"
   ]
  },
  {
   "cell_type": "code",
   "execution_count": 27,
   "metadata": {},
   "outputs": [
    {
     "name": "stdout",
     "output_type": "stream",
     "text": [
      "0.3450776318034465\n",
      "0.011516806005801059\n",
      "0.008275038389353352\n"
     ]
    }
   ],
   "source": [
    "# Problem Set 4: Problem 12.2\n",
    "print(computePollWeight(df,\"Morning ConsultM. Consult\"))\n",
    "print(computePollWeight(df,\"CNNCNN\"))\n",
    "print(computePollWeight(df,\"ABC News/Wash PostABC/WP\"))"
   ]
  },
  {
   "cell_type": "code",
   "execution_count": 28,
   "metadata": {},
   "outputs": [
    {
     "name": "stdout",
     "output_type": "stream",
     "text": [
      "ABC News/Wash PostABC/WP\n",
      "Economist/YouGovYouGov\n",
      "Reuters/IpsosReuters\n",
      "Morning ConsultM. Consult\n",
      "EmersonEmerson\n",
      "The Hill/HarrisXThe Hill\n",
      "Politico/Morning ConsultPolitico\n",
      "NBC News/Wall St. JrnlNBC/WSJ\n",
      "QuinnipiacQuinnipiac\n",
      "CNNCNN\n"
     ]
    }
   ],
   "source": [
    "for poll in df[\"Poll\"].unique():\n",
    "    print(poll)"
   ]
  },
  {
   "cell_type": "code",
   "execution_count": 29,
   "metadata": {},
   "outputs": [
    {
     "data": {
      "text/plain": [
       "0.008275038389353352"
      ]
     },
     "execution_count": 29,
     "metadata": {},
     "output_type": "execute_result"
    }
   ],
   "source": [
    "computePollWeight(df,\"ABC News/Wash PostABC/WP\")"
   ]
  },
  {
   "cell_type": "code",
   "execution_count": 30,
   "metadata": {},
   "outputs": [
    {
     "data": {
      "text/plain": [
       "39.0"
      ]
     },
     "execution_count": 30,
     "metadata": {},
     "output_type": "execute_result"
    }
   ],
   "source": [
    "sum(df[df[\"Poll\"] == \"ABC News/Wash PostABC/WP\"][\"Sanders\"])"
   ]
  },
  {
   "cell_type": "code",
   "execution_count": 31,
   "metadata": {},
   "outputs": [
    {
     "data": {
      "text/plain": [
       "0.32272649718478075"
      ]
     },
     "execution_count": 31,
     "metadata": {},
     "output_type": "execute_result"
    }
   ],
   "source": [
    "sum(df[df[\"Poll\"] == \"ABC News/Wash PostABC/WP\"][\"Sanders\"]) * computePollWeight(df,\"ABC News/Wash PostABC/WP\")"
   ]
  },
  {
   "cell_type": "code",
   "execution_count": 32,
   "metadata": {},
   "outputs": [],
   "source": [
    "# Problem Set 4: Problem 13\n",
    "def weightedStatsPerCandidate(candidate,dataset):\n",
    "    weightedAverages = []\n",
    "    for poll in df[\"Poll\"].unique():\n",
    "        val = sum(df[df[\"Poll\"] == poll][candidate]) * computePollWeight(dataset,poll)\n",
    "        weightedAverages.append(val)\n",
    "    return sum(weightedAverages) / len(weightedAverages)"
   ]
  },
  {
   "cell_type": "code",
   "execution_count": 33,
   "metadata": {},
   "outputs": [
    {
     "data": {
      "text/plain": [
       "9.906125234601605"
      ]
     },
     "execution_count": 33,
     "metadata": {},
     "output_type": "execute_result"
    }
   ],
   "source": [
    "weightedStatsPerCandidate(\"Sanders\",df)"
   ]
  },
  {
   "cell_type": "code",
   "execution_count": 34,
   "metadata": {},
   "outputs": [
    {
     "data": {
      "text/plain": [
       "15.301388414946256"
      ]
     },
     "execution_count": 34,
     "metadata": {},
     "output_type": "execute_result"
    }
   ],
   "source": [
    "weightedStatsPerCandidate(\"Biden\",df)"
   ]
  },
  {
   "cell_type": "code",
   "execution_count": 35,
   "metadata": {},
   "outputs": [],
   "source": [
    "# Problem Set 4: Problem 15\n",
    "def computeCorrelation(candidate1,candidate2,dataset):\n",
    "    return dataset[candidate1].corr(dataset[candidate2])"
   ]
  },
  {
   "cell_type": "code",
   "execution_count": 36,
   "metadata": {},
   "outputs": [
    {
     "data": {
      "text/plain": [
       "-0.015205292657614304"
      ]
     },
     "execution_count": 36,
     "metadata": {},
     "output_type": "execute_result"
    }
   ],
   "source": [
    "computeCorrelation(\"Sanders\",\"Biden\",df)"
   ]
  },
  {
   "cell_type": "code",
   "execution_count": 37,
   "metadata": {},
   "outputs": [
    {
     "name": "stdout",
     "output_type": "stream",
     "text": [
      "Biden vs Sanders : -0.015205292657614304\n"
     ]
    }
   ],
   "source": [
    "# Problem Set 4: Problem 16\n",
    "repeatList = []\n",
    "\n",
    "for candidate1 in myCans:\n",
    "    for candidate2 in myCans:\n",
    "        if candidate1 != candidate2:\n",
    "            if [candidate1,candidate2] not in repeatList and [candidate2,candidate1] not in repeatList:\n",
    "                print(candidate1,\"vs\",candidate2,\":\",computeCorrelation(candidate1,candidate2,df))\n",
    "                repeatList.append([candidate1,candidate2])"
   ]
  },
  {
   "cell_type": "code",
   "execution_count": 38,
   "metadata": {},
   "outputs": [
    {
     "name": "stdout",
     "output_type": "stream",
     "text": [
      "Biden and Klobuchar are the most correlated.\n",
      "Sanders and Steyer are the least correlated.\n"
     ]
    }
   ],
   "source": [
    "print(\"Biden and Klobuchar are the most correlated.\")\n",
    "print(\"Sanders and Steyer are the least correlated.\")"
   ]
  },
  {
   "cell_type": "code",
   "execution_count": 39,
   "metadata": {},
   "outputs": [],
   "source": [
    "# Problem Set 4: Problem 18\n",
    "superTuesday(df,myCans)"
   ]
  },
  {
   "cell_type": "code",
   "execution_count": 40,
   "metadata": {},
   "outputs": [
    {
     "data": {
      "text/html": [
       "<div>\n",
       "<style scoped>\n",
       "    .dataframe tbody tr th:only-of-type {\n",
       "        vertical-align: middle;\n",
       "    }\n",
       "\n",
       "    .dataframe tbody tr th {\n",
       "        vertical-align: top;\n",
       "    }\n",
       "\n",
       "    .dataframe thead th {\n",
       "        text-align: right;\n",
       "    }\n",
       "</style>\n",
       "<table border=\"1\" class=\"dataframe\">\n",
       "  <thead>\n",
       "    <tr style=\"text-align: right;\">\n",
       "      <th></th>\n",
       "      <th>Poll</th>\n",
       "      <th>Date</th>\n",
       "      <th>Sample</th>\n",
       "      <th>Biden</th>\n",
       "      <th>Sanders</th>\n",
       "      <th>Spread</th>\n",
       "      <th>Undecided</th>\n",
       "      <th>Sample Type</th>\n",
       "      <th>Sample Size</th>\n",
       "      <th>BidenST</th>\n",
       "      <th>SandersST</th>\n",
       "    </tr>\n",
       "  </thead>\n",
       "  <tbody>\n",
       "    <tr>\n",
       "      <th>1</th>\n",
       "      <td>ABC News/Wash PostABC/WP</td>\n",
       "      <td>3/22 - 3/25</td>\n",
       "      <td>388 RV</td>\n",
       "      <td>55.0</td>\n",
       "      <td>39.0</td>\n",
       "      <td>Biden +16</td>\n",
       "      <td>6.0</td>\n",
       "      <td>RV</td>\n",
       "      <td>388</td>\n",
       "      <td>55.0</td>\n",
       "      <td>39.0</td>\n",
       "    </tr>\n",
       "    <tr>\n",
       "      <th>3</th>\n",
       "      <td>Economist/YouGovYouGov</td>\n",
       "      <td>3/22 - 3/24</td>\n",
       "      <td>547 LV</td>\n",
       "      <td>57.0</td>\n",
       "      <td>39.0</td>\n",
       "      <td>Biden +18</td>\n",
       "      <td>4.0</td>\n",
       "      <td>RV</td>\n",
       "      <td>547</td>\n",
       "      <td>57.0</td>\n",
       "      <td>39.0</td>\n",
       "    </tr>\n",
       "    <tr>\n",
       "      <th>5</th>\n",
       "      <td>Reuters/IpsosReuters</td>\n",
       "      <td>3/18 - 3/24</td>\n",
       "      <td>1981 RV</td>\n",
       "      <td>53.0</td>\n",
       "      <td>34.0</td>\n",
       "      <td>Biden +19</td>\n",
       "      <td>13.0</td>\n",
       "      <td>RV</td>\n",
       "      <td>1981</td>\n",
       "      <td>53.0</td>\n",
       "      <td>34.0</td>\n",
       "    </tr>\n",
       "    <tr>\n",
       "      <th>7</th>\n",
       "      <td>Morning ConsultM. Consult</td>\n",
       "      <td>3/16 - 3/22</td>\n",
       "      <td>16180 LV</td>\n",
       "      <td>60.0</td>\n",
       "      <td>36.0</td>\n",
       "      <td>Biden +24</td>\n",
       "      <td>4.0</td>\n",
       "      <td>RV</td>\n",
       "      <td>16180</td>\n",
       "      <td>60.0</td>\n",
       "      <td>36.0</td>\n",
       "    </tr>\n",
       "    <tr>\n",
       "      <th>9</th>\n",
       "      <td>EmersonEmerson</td>\n",
       "      <td>3/18 - 3/19</td>\n",
       "      <td>519 RV</td>\n",
       "      <td>54.0</td>\n",
       "      <td>42.0</td>\n",
       "      <td>Biden +12</td>\n",
       "      <td>4.0</td>\n",
       "      <td>RV</td>\n",
       "      <td>519</td>\n",
       "      <td>54.0</td>\n",
       "      <td>42.0</td>\n",
       "    </tr>\n",
       "    <tr>\n",
       "      <th>11</th>\n",
       "      <td>Economist/YouGovYouGov</td>\n",
       "      <td>3/15 - 3/17</td>\n",
       "      <td>551 LV</td>\n",
       "      <td>57.0</td>\n",
       "      <td>36.0</td>\n",
       "      <td>Biden +21</td>\n",
       "      <td>7.0</td>\n",
       "      <td>RV</td>\n",
       "      <td>551</td>\n",
       "      <td>57.0</td>\n",
       "      <td>36.0</td>\n",
       "    </tr>\n",
       "    <tr>\n",
       "      <th>13</th>\n",
       "      <td>Reuters/IpsosReuters</td>\n",
       "      <td>3/13 - 3/16</td>\n",
       "      <td>458 RV</td>\n",
       "      <td>48.0</td>\n",
       "      <td>39.0</td>\n",
       "      <td>Biden +9</td>\n",
       "      <td>13.0</td>\n",
       "      <td>RV</td>\n",
       "      <td>458</td>\n",
       "      <td>48.0</td>\n",
       "      <td>39.0</td>\n",
       "    </tr>\n",
       "    <tr>\n",
       "      <th>15</th>\n",
       "      <td>The Hill/HarrisXThe Hill</td>\n",
       "      <td>3/14 - 3/15</td>\n",
       "      <td>894 RV</td>\n",
       "      <td>55.0</td>\n",
       "      <td>31.0</td>\n",
       "      <td>Biden +24</td>\n",
       "      <td>14.0</td>\n",
       "      <td>RV</td>\n",
       "      <td>894</td>\n",
       "      <td>55.0</td>\n",
       "      <td>31.0</td>\n",
       "    </tr>\n",
       "    <tr>\n",
       "      <th>17</th>\n",
       "      <td>Politico/Morning ConsultPolitico</td>\n",
       "      <td>3/11 - 3/15</td>\n",
       "      <td>8869 LV</td>\n",
       "      <td>58.0</td>\n",
       "      <td>37.0</td>\n",
       "      <td>Biden +21</td>\n",
       "      <td>5.0</td>\n",
       "      <td>RV</td>\n",
       "      <td>8869</td>\n",
       "      <td>58.0</td>\n",
       "      <td>37.0</td>\n",
       "    </tr>\n",
       "    <tr>\n",
       "      <th>19</th>\n",
       "      <td>NBC News/Wall St. JrnlNBC/WSJ</td>\n",
       "      <td>3/11 - 3/13</td>\n",
       "      <td>438 LV</td>\n",
       "      <td>61.0</td>\n",
       "      <td>32.0</td>\n",
       "      <td>Biden +29</td>\n",
       "      <td>7.0</td>\n",
       "      <td>RV</td>\n",
       "      <td>438</td>\n",
       "      <td>61.0</td>\n",
       "      <td>32.0</td>\n",
       "    </tr>\n",
       "    <tr>\n",
       "      <th>21</th>\n",
       "      <td>Politico/Morning ConsultPolitico</td>\n",
       "      <td>3/11 - 3/11</td>\n",
       "      <td>2072 LV</td>\n",
       "      <td>59.0</td>\n",
       "      <td>35.0</td>\n",
       "      <td>Biden +24</td>\n",
       "      <td>6.0</td>\n",
       "      <td>RV</td>\n",
       "      <td>2072</td>\n",
       "      <td>59.0</td>\n",
       "      <td>35.0</td>\n",
       "    </tr>\n",
       "    <tr>\n",
       "      <th>23</th>\n",
       "      <td>Economist/YouGovYouGov</td>\n",
       "      <td>3/8 - 3/10</td>\n",
       "      <td>573 RV</td>\n",
       "      <td>53.0</td>\n",
       "      <td>38.0</td>\n",
       "      <td>Biden +15</td>\n",
       "      <td>9.0</td>\n",
       "      <td>RV</td>\n",
       "      <td>573</td>\n",
       "      <td>53.0</td>\n",
       "      <td>38.0</td>\n",
       "    </tr>\n",
       "    <tr>\n",
       "      <th>25</th>\n",
       "      <td>The Hill/HarrisXThe Hill</td>\n",
       "      <td>3/8 - 3/9</td>\n",
       "      <td>442 RV</td>\n",
       "      <td>55.0</td>\n",
       "      <td>28.0</td>\n",
       "      <td>Biden +27</td>\n",
       "      <td>17.0</td>\n",
       "      <td>RV</td>\n",
       "      <td>442</td>\n",
       "      <td>55.0</td>\n",
       "      <td>28.0</td>\n",
       "    </tr>\n",
       "    <tr>\n",
       "      <th>27</th>\n",
       "      <td>Reuters/IpsosReuters</td>\n",
       "      <td>3/6 - 3/9</td>\n",
       "      <td>420 RV</td>\n",
       "      <td>54.0</td>\n",
       "      <td>33.0</td>\n",
       "      <td>Biden +21</td>\n",
       "      <td>13.0</td>\n",
       "      <td>RV</td>\n",
       "      <td>420</td>\n",
       "      <td>54.0</td>\n",
       "      <td>33.0</td>\n",
       "    </tr>\n",
       "    <tr>\n",
       "      <th>29</th>\n",
       "      <td>QuinnipiacQuinnipiac</td>\n",
       "      <td>3/5 - 3/8</td>\n",
       "      <td>559 RV</td>\n",
       "      <td>54.0</td>\n",
       "      <td>35.0</td>\n",
       "      <td>Biden +19</td>\n",
       "      <td>11.0</td>\n",
       "      <td>RV</td>\n",
       "      <td>559</td>\n",
       "      <td>54.0</td>\n",
       "      <td>35.0</td>\n",
       "    </tr>\n",
       "    <tr>\n",
       "      <th>31</th>\n",
       "      <td>Politico/Morning ConsultPolitico</td>\n",
       "      <td>3/5 - 3/8</td>\n",
       "      <td>9593 RV</td>\n",
       "      <td>56.0</td>\n",
       "      <td>38.0</td>\n",
       "      <td>Biden +18</td>\n",
       "      <td>6.0</td>\n",
       "      <td>RV</td>\n",
       "      <td>9593</td>\n",
       "      <td>56.0</td>\n",
       "      <td>38.0</td>\n",
       "    </tr>\n",
       "    <tr>\n",
       "      <th>33</th>\n",
       "      <td>CNNCNN</td>\n",
       "      <td>3/4 - 3/7</td>\n",
       "      <td>540 RV</td>\n",
       "      <td>52.0</td>\n",
       "      <td>36.0</td>\n",
       "      <td>Biden +16</td>\n",
       "      <td>12.0</td>\n",
       "      <td>RV</td>\n",
       "      <td>540</td>\n",
       "      <td>52.0</td>\n",
       "      <td>36.0</td>\n",
       "    </tr>\n",
       "    <tr>\n",
       "      <th>35</th>\n",
       "      <td>Politico/Morning ConsultPolitico</td>\n",
       "      <td>3/5 - 3/5</td>\n",
       "      <td>1390 LV</td>\n",
       "      <td>54.0</td>\n",
       "      <td>38.0</td>\n",
       "      <td>Biden +16</td>\n",
       "      <td>8.0</td>\n",
       "      <td>RV</td>\n",
       "      <td>1390</td>\n",
       "      <td>54.0</td>\n",
       "      <td>38.0</td>\n",
       "    </tr>\n",
       "    <tr>\n",
       "      <th>37</th>\n",
       "      <td>Reuters/IpsosReuters</td>\n",
       "      <td>3/4 - 3/5</td>\n",
       "      <td>474 RV</td>\n",
       "      <td>45.0</td>\n",
       "      <td>32.0</td>\n",
       "      <td>Biden +13</td>\n",
       "      <td>23.0</td>\n",
       "      <td>RV</td>\n",
       "      <td>474</td>\n",
       "      <td>45.0</td>\n",
       "      <td>32.0</td>\n",
       "    </tr>\n",
       "  </tbody>\n",
       "</table>\n",
       "</div>"
      ],
      "text/plain": [
       "                                Poll         Date    Sample  Biden  Sanders  \\\n",
       "1           ABC News/Wash PostABC/WP  3/22 - 3/25    388 RV   55.0     39.0   \n",
       "3             Economist/YouGovYouGov  3/22 - 3/24    547 LV   57.0     39.0   \n",
       "5               Reuters/IpsosReuters  3/18 - 3/24   1981 RV   53.0     34.0   \n",
       "7          Morning ConsultM. Consult  3/16 - 3/22  16180 LV   60.0     36.0   \n",
       "9                     EmersonEmerson  3/18 - 3/19    519 RV   54.0     42.0   \n",
       "11            Economist/YouGovYouGov  3/15 - 3/17    551 LV   57.0     36.0   \n",
       "13              Reuters/IpsosReuters  3/13 - 3/16    458 RV   48.0     39.0   \n",
       "15          The Hill/HarrisXThe Hill  3/14 - 3/15    894 RV   55.0     31.0   \n",
       "17  Politico/Morning ConsultPolitico  3/11 - 3/15   8869 LV   58.0     37.0   \n",
       "19     NBC News/Wall St. JrnlNBC/WSJ  3/11 - 3/13    438 LV   61.0     32.0   \n",
       "21  Politico/Morning ConsultPolitico  3/11 - 3/11   2072 LV   59.0     35.0   \n",
       "23            Economist/YouGovYouGov   3/8 - 3/10    573 RV   53.0     38.0   \n",
       "25          The Hill/HarrisXThe Hill    3/8 - 3/9    442 RV   55.0     28.0   \n",
       "27              Reuters/IpsosReuters    3/6 - 3/9    420 RV   54.0     33.0   \n",
       "29              QuinnipiacQuinnipiac    3/5 - 3/8    559 RV   54.0     35.0   \n",
       "31  Politico/Morning ConsultPolitico    3/5 - 3/8   9593 RV   56.0     38.0   \n",
       "33                            CNNCNN    3/4 - 3/7    540 RV   52.0     36.0   \n",
       "35  Politico/Morning ConsultPolitico    3/5 - 3/5   1390 LV   54.0     38.0   \n",
       "37              Reuters/IpsosReuters    3/4 - 3/5    474 RV   45.0     32.0   \n",
       "\n",
       "       Spread  Undecided Sample Type  Sample Size  BidenST  SandersST  \n",
       "1   Biden +16        6.0          RV          388     55.0       39.0  \n",
       "3   Biden +18        4.0          RV          547     57.0       39.0  \n",
       "5   Biden +19       13.0          RV         1981     53.0       34.0  \n",
       "7   Biden +24        4.0          RV        16180     60.0       36.0  \n",
       "9   Biden +12        4.0          RV          519     54.0       42.0  \n",
       "11  Biden +21        7.0          RV          551     57.0       36.0  \n",
       "13   Biden +9       13.0          RV          458     48.0       39.0  \n",
       "15  Biden +24       14.0          RV          894     55.0       31.0  \n",
       "17  Biden +21        5.0          RV         8869     58.0       37.0  \n",
       "19  Biden +29        7.0          RV          438     61.0       32.0  \n",
       "21  Biden +24        6.0          RV         2072     59.0       35.0  \n",
       "23  Biden +15        9.0          RV          573     53.0       38.0  \n",
       "25  Biden +27       17.0          RV          442     55.0       28.0  \n",
       "27  Biden +21       13.0          RV          420     54.0       33.0  \n",
       "29  Biden +19       11.0          RV          559     54.0       35.0  \n",
       "31  Biden +18        6.0          RV         9593     56.0       38.0  \n",
       "33  Biden +16       12.0          RV          540     52.0       36.0  \n",
       "35  Biden +16        8.0          RV         1390     54.0       38.0  \n",
       "37  Biden +13       23.0          RV          474     45.0       32.0  "
      ]
     },
     "execution_count": 40,
     "metadata": {},
     "output_type": "execute_result"
    }
   ],
   "source": [
    "df"
   ]
  },
  {
   "cell_type": "code",
   "execution_count": 41,
   "metadata": {},
   "outputs": [
    {
     "name": "stdout",
     "output_type": "stream",
     "text": [
      "Biden Mean: 54.73684210526316\n",
      "Sanders Mean: 35.68421052631579\n"
     ]
    }
   ],
   "source": [
    "print(\"Biden Mean:\",df[\"BidenST\"].mean())\n",
    "print(\"Sanders Mean:\",df[\"SandersST\"].mean())"
   ]
  },
  {
   "cell_type": "code",
   "execution_count": 42,
   "metadata": {},
   "outputs": [
    {
     "name": "stdout",
     "output_type": "stream",
     "text": [
      "Biden Weighted Mean: 15.301388414946256\n",
      "Sanders Weighted Mean: 9.906125234601605\n"
     ]
    }
   ],
   "source": [
    "print(\"Biden Weighted Mean:\",weightedStatsPerCandidate(\"BidenST\",df))\n",
    "print(\"Sanders Weighted Mean:\",weightedStatsPerCandidate(\"SandersST\",df))"
   ]
  },
  {
   "cell_type": "code",
   "execution_count": 43,
   "metadata": {},
   "outputs": [
    {
     "name": "stdout",
     "output_type": "stream",
     "text": [
      "Biden: 1.8447560639204654\n",
      "Sanders: 1.6467032777736272\n",
      "Difference: 0.1980527861468382\n"
     ]
    }
   ],
   "source": [
    "# Problem Set 4: Problem 19.2\n",
    "print(\"Biden:\",getConfidenceIntervals(df[\"BidenST\"]))\n",
    "print(\"Sanders:\",getConfidenceIntervals(df[\"SandersST\"]))\n",
    "print(\"Difference:\",abs(getConfidenceIntervals(df[\"BidenST\"])-getConfidenceIntervals(df[\"SandersST\"])))"
   ]
  },
  {
   "cell_type": "code",
   "execution_count": 44,
   "metadata": {},
   "outputs": [
    {
     "name": "stdout",
     "output_type": "stream",
     "text": [
      "1. Ttest_indResult(statistic=16.187333664379814, pvalue=4.2067048067549535e-18)\n",
      "2. Ttest_indResult(statistic=16.187333664379814, pvalue=4.2067048067549535e-18)\n"
     ]
    }
   ],
   "source": [
    "# Problem Set 4: Problem 20.2\n",
    "print(\"1.\",runTTest(df[\"Biden\"],df[\"Sanders\"]))\n",
    "print(\"2.\",runTTest(df[\"BidenST\"],df[\"SandersST\"]))"
   ]
  }
 ],
 "metadata": {
  "kernelspec": {
   "display_name": "Python 3",
   "language": "python",
   "name": "python3"
  },
  "language_info": {
   "codemirror_mode": {
    "name": "ipython",
    "version": 3
   },
   "file_extension": ".py",
   "mimetype": "text/x-python",
   "name": "python",
   "nbconvert_exporter": "python",
   "pygments_lexer": "ipython3",
   "version": "3.7.1"
  }
 },
 "nbformat": 4,
 "nbformat_minor": 2
}
